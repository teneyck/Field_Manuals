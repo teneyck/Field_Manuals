{
  "cells": [
    {
      "cell_type": "markdown",
      "source": [
        "## Table of Contents\n",
        "\n",
        "### Introductions\n",
        "\n",
        "#### Instructors:\n",
        "    - Joseph Joseph.TenEyck@Target.com\n",
        "    - Fred  John.Fredrickson@Target.com\n",
        "    \n",
        "### Development environments\n",
        "\n",
        "    - Python( 2 or 3 your choice)\n",
        "    - Jupyter Kernel\n",
        "        - Nteract\n",
        "        - Hydrogen\n",
        "    \n",
        "### Technology Whirlwind\n",
        "\n",
        "    - Pandas Dataframe\n",
        "    - Plotly graphing library\n",
        "\n",
        "    \n",
        "### Python Libraries\n",
        "    \n",
        "    - Pandas\n",
        "    - Plotly\n",
        "    \n",
        "### Outputs\n",
        "\n",
        "    - Graphs: offline vs online\n",
        "    - Dashboards\n",
        "        - Embedding\n",
        "        - Websites\n",
        "    - Presentations\n",
        "    - Notebooks\n"
      ],
      "metadata": {}
    },
    {
      "cell_type": "markdown",
      "source": [
        "## Pandas\n",
        "[Pandas Documentation](http://pandas.pydata.org/pandas-docs/stable/)\n",
        "\n",
        "> pandas is a Python package providing fast, flexible, and expressive data structures designed to make working with “relational” or “labeled” data both easy and intuitive. It aims to be the fundamental high-level building block for doing practical, real world data analysis in Python.\n",
        "\n",
        "Get pandas by \" `pip install pandas` \"\n",
        "\n",
        "Add to program thru standard \" `import pandas as pd` \"\n",
        "\n\n\n"
      ],
      "metadata": {}
    },
    {
      "cell_type": "code",
      "source": [
        "import pandas as pd\n",
        "\n",
        "pd.__version__ # Retrieve the pandas version\n",
        "\npd.show_versions() # Show all releevant python and os related information"
      ],
      "outputs": [],
      "execution_count": 2,
      "metadata": {
        "collapsed": false,
        "outputHidden": false,
        "inputHidden": false
      }
    },
    {
      "cell_type": "code",
      "source": [
        "help(pd.read_json)"
      ],
      "outputs": [],
      "execution_count": 3,
      "metadata": {
        "collapsed": false,
        "outputHidden": false,
        "inputHidden": false
      }
    },
    {
      "cell_type": "markdown",
      "source": [
        "## Adding Data to Pandas\n",
        "\n",
        "pandas support a variety of read and write formats.\n",
        "\n"
      ],
      "metadata": {}
    },
    {
      "cell_type": "code",
      "source": [
        "formats_df = pd.read_csv('pandas_read_formats.csv')\n",
        "print(formats_df)"
      ],
      "outputs": [],
      "execution_count": 4,
      "metadata": {
        "collapsed": false,
        "outputHidden": false,
        "inputHidden": false
      }
    },
    {
      "cell_type": "markdown",
      "source": [
        "For this class we will only use a couple.\n",
        "\n",
        "   pandas can also read from a variety of locations. For the purposes of this class we will cocentrate on local files and files from the web that are in a known format. \n",
        "\n",
        "   In the code above \"` formats = pd.read_csv('pandas_read_formats.csv')`\" we are reading in the file \"pandas_read_formats.csv\" and assigning the returned values from the read to the variable `formats_df`.\n",
        "\n   We can just as easily read from the web. I've stored the same file in my [GitHub repo for this workshop](https://github.com/teneyck/Threat_Hunting_Viz). We can use the same code to retrieve the file from there. By modifying the value passed to the `read_csv` method."
      ],
      "metadata": {}
    },
    {
      "cell_type": "code",
      "source": [
        "formats_df = pd.read_csv('pandas_read_formats.csv')\n",
        "print(formats_df)"
      ],
      "outputs": [],
      "execution_count": 5,
      "metadata": {
        "collapsed": false,
        "outputHidden": false,
        "inputHidden": false
      }
    },
    {
      "cell_type": "markdown",
      "source": [
        "In the same manner we can read from json, or any of the other formats.\n",
        "\n",
        "#### Challenge 1 \n",
        "\nRepeat the above exmples reading 'pandas_read_formats.json' included in files."
      ],
      "metadata": {}
    },
    {
      "cell_type": "markdown",
      "source": [
        "## Data is in but now what\n",
        "\n",
        " Once we have the data we can now look at it and try to find meaningful corolaries. We can manipulate the data in ways simliar to any other spreadsheet or application.\n",
        " \n",
        " We can look at the index of the data frame."
      ],
      "metadata": {}
    },
    {
      "cell_type": "code",
      "source": [
        "print(formats_df.index)"
      ],
      "outputs": [],
      "execution_count": 6,
      "metadata": {
        "collapsed": false,
        "outputHidden": false,
        "inputHidden": false
      }
    },
    {
      "cell_type": "markdown",
      "source": [
        "We can look at the column names."
      ],
      "metadata": {}
    },
    {
      "cell_type": "code",
      "source": [
        "print(formats_df.columns)"
      ],
      "outputs": [],
      "execution_count": 22,
      "metadata": {
        "collapsed": false,
        "outputHidden": false,
        "inputHidden": false
      }
    },
    {
      "cell_type": "markdown",
      "source": [
        "We can look at the values."
      ],
      "metadata": {}
    },
    {
      "cell_type": "code",
      "source": [
        "print(formats_df.values)"
      ],
      "outputs": [],
      "execution_count": 23,
      "metadata": {
        "collapsed": false,
        "outputHidden": false,
        "inputHidden": false
      }
    },
    {
      "cell_type": "markdown",
      "source": [
        "We also can look at idividual lines using python slice notation."
      ],
      "metadata": {}
    },
    {
      "cell_type": "code",
      "source": [
        "formats_df[1:2]"
      ],
      "outputs": [],
      "execution_count": 24,
      "metadata": {
        "collapsed": false,
        "outputHidden": false,
        "inputHidden": false
      }
    },
    {
      "cell_type": "markdown",
      "source": [
        "We can also extract a single cell."
      ],
      "metadata": {}
    },
    {
      "cell_type": "code",
      "source": [
        "formats_df.iloc[1]['Reader']"
      ],
      "outputs": [],
      "execution_count": 25,
      "metadata": {
        "collapsed": false,
        "outputHidden": false,
        "inputHidden": false
      }
    },
    {
      "cell_type": "markdown",
      "source": [
        "We can also extract based on boolean operations."
      ],
      "metadata": {}
    },
    {
      "cell_type": "code",
      "source": [
        "formats_df.loc[formats_df['Format Type'] == 'text']"
      ],
      "outputs": [],
      "execution_count": 79,
      "metadata": {
        "collapsed": false,
        "outputHidden": false,
        "inputHidden": false
      }
    },
    {
      "cell_type": "markdown",
      "source": [
        "We can then take that output and assign it to a variable as in python."
      ],
      "metadata": {}
    },
    {
      "cell_type": "code",
      "source": [
        "var1 = formats_df.iloc[1]['Reader']\n",
        "print(type(var1))\n",
        "print(var1)"
      ],
      "outputs": [],
      "execution_count": 27,
      "metadata": {
        "collapsed": false,
        "outputHidden": false,
        "inputHidden": false
      }
    },
    {
      "cell_type": "markdown",
      "source": [
        "Part of the diffucluty with extracting data from a dataframe is knowing and predicting how the data will be output. SO for example when we extract the values  using the '`.values`' we may expect something different then we actually get, in a cell above we '`print(formats_df.values)`.' It the output may be mistaken for a list of lists."
      ],
      "metadata": {}
    },
    {
      "cell_type": "code",
      "source": [
        "var2 = formats_df.values\n",
        "print(var2)"
      ],
      "outputs": [],
      "execution_count": 28,
      "metadata": {
        "collapsed": false,
        "outputHidden": false,
        "inputHidden": false
      }
    },
    {
      "cell_type": "markdown",
      "source": [
        "But if we type it we get something different."
      ],
      "metadata": {}
    },
    {
      "cell_type": "code",
      "source": [
        "type(var2)"
      ],
      "outputs": [],
      "execution_count": 29,
      "metadata": {
        "collapsed": false,
        "outputHidden": false,
        "inputHidden": false
      }
    },
    {
      "cell_type": "markdown",
      "source": [
        "What we end up with is a numpy ndarray, for our purposes it's enough to know this, but if you want more documentation can be found at [SciPY](https://docs.scipy.org/doc/numpy-1.12.0/reference/generated/numpy.ndarray.html)"
      ],
      "metadata": {}
    },
    {
      "cell_type": "markdown",
      "source": [
        "### Data Manipulation\n",
        "We can also take our dataframe and use it in the way we do conventional spreadsheets. For this portion of the notebook we will be using the data from [here.](https://raw.githubusercontent.com/plotly/datasets/master/gapminder_unfiltered.csv)"
      ],
      "metadata": {}
    },
    {
      "cell_type": "code",
      "source": [
        "gdp_df = pd.read_csv(\"gapminder_unfiltered.csv\")\n",
        "gdp_df.head()"
      ],
      "outputs": [],
      "execution_count": 30,
      "metadata": {
        "collapsed": false,
        "outputHidden": false,
        "inputHidden": false
      }
    },
    {
      "cell_type": "markdown",
      "source": [
        "This data is a compilation of the available information about population and gross domestic product for a variety of countries. It is one of the first examples of data science for the masses and we will use it as an homage to that fact. First we will just get a count of years the data is available for and then get the earliest year."
      ],
      "metadata": {}
    },
    {
      "cell_type": "code",
      "source": [
        "len(gdp_df['year'].unique()) # Puts unique values into an array and then prints length of that array\n"
      ],
      "outputs": [],
      "execution_count": 31,
      "metadata": {
        "collapsed": false,
        "outputHidden": false,
        "inputHidden": false
      }
    },
    {
      "cell_type": "code",
      "source": [
        "gdp_df.year.min() # note the switch in notation \".year\" == ['year']"
      ],
      "outputs": [],
      "execution_count": 32,
      "metadata": {
        "collapsed": false,
        "outputHidden": false,
        "inputHidden": false
      }
    },
    {
      "cell_type": "markdown",
      "source": [
        "#### Challenge 2\n",
        "\nFind the  last year referenced in the data and the number of countries referenced."
      ],
      "metadata": {}
    },
    {
      "cell_type": "code",
      "source": [
        "# Insert Challenge solution here."
      ],
      "outputs": [],
      "execution_count": 33,
      "metadata": {
        "collapsed": false,
        "outputHidden": false,
        "inputHidden": false
      }
    },
    {
      "cell_type": "markdown",
      "source": [
        "We can do more comlex tranforms also, we will take simple csv 'datasets/titanic-mosaic-chart.csv' and perform some transformations on it to extract some simple data."
      ],
      "metadata": {
        "collapsed": false,
        "outputHidden": false,
        "inputHidden": false
      }
    },
    {
      "cell_type": "code",
      "source": [
        "titanic_df = pd.read_csv('datasets/titanic-mosaic-chart.csv')\n",
        "print(titanic_df.head())"
      ],
      "outputs": [],
      "execution_count": 49,
      "metadata": {
        "collapsed": false,
        "outputHidden": false,
        "inputHidden": false
      }
    },
    {
      "cell_type": "code",
      "source": [
        "print(titanic_df.loc[titanic_df['survived'] == 'Yes']['gender'].value_counts())"
      ],
      "outputs": [],
      "execution_count": 55,
      "metadata": {
        "collapsed": false,
        "outputHidden": false,
        "inputHidden": false
      }
    },
    {
      "cell_type": "markdown",
      "source": [
        "## Challenge 3\n",
        "\nFind out the number of people that survived by Class."
      ],
      "metadata": {
        "collapsed": false,
        "outputHidden": false,
        "inputHidden": false
      }
    },
    {
      "cell_type": "code",
      "source": [
        "# Insert Challenge 3 solution here."
      ],
      "outputs": [],
      "execution_count": null,
      "metadata": {
        "collapsed": false,
        "outputHidden": false,
        "inputHidden": false
      }
    },
    {
      "cell_type": "markdown",
      "source": [
        "Ww can also use built in functionality for more complex data manipulation, for the next one we will take 'datasets/tips.csv' and calulate the standard mean of tips by percent."
      ],
      "metadata": {}
    },
    {
      "cell_type": "code",
      "source": [
        "tips_df = pd.read_csv('datasets/tips.csv')\n",
        "print(tips_df.head())"
      ],
      "outputs": [],
      "execution_count": 56,
      "metadata": {}
    },
    {
      "cell_type": "code",
      "source": [
        "print((tips_df['tip']/tips_df['total_bill']).mean())"
      ],
      "outputs": [],
      "execution_count": 63,
      "metadata": {
        "collapsed": false,
        "outputHidden": false,
        "inputHidden": false
      }
    },
    {
      "cell_type": "code",
      "source": [
        "tips_df['percent'] = tips_df['tip']/tips_df['total_bill']\n",
        "print(tips_df['percent'].std())"
      ],
      "outputs": [],
      "execution_count": 65,
      "metadata": {
        "collapsed": false,
        "outputHidden": false,
        "inputHidden": false
      }
    },
    {
      "cell_type": "markdown",
      "source": [
        "### Challenge 4\n",
        "\nUsing the tips_df figure out is male or females are more consistent in tipping, figure out if dinner breakfast or lunch gets bigger tips by percantage."
      ],
      "metadata": {
        "collapsed": false,
        "outputHidden": false,
        "inputHidden": false
      }
    },
    {
      "cell_type": "code",
      "source": [
        "# Insert Challenge 4 code here"
      ],
      "outputs": [],
      "execution_count": null,
      "metadata": {}
    },
    {
      "cell_type": "markdown",
      "source": [
        "We can also take the default data and transform it to fit the way we want it to. We are gonna load the data from 'datasets/26k-consumer-complaints' and transformthe date into datetime objects so as to be able to group and sort on dates."
      ],
      "metadata": {
        "collapsed": false,
        "outputHidden": false,
        "inputHidden": false
      }
    },
    {
      "cell_type": "code",
      "source": [
        "complaints_df = pd.read_csv('datasets/26k-consumer-complaints.csv')\n",
        "print(complaints_df.head())"
      ],
      "outputs": [],
      "execution_count": 67,
      "metadata": {}
    },
    {
      "cell_type": "markdown",
      "source": [
        "We want to convert two columns so we will make a list and iterate it to convert both columns then we will group by month to see which month has the most complaints."
      ],
      "metadata": {}
    },
    {
      "cell_type": "code",
      "source": [
        "dates = ['Date received', 'Date sent to company']\n",
        "for date in dates:\n",
        "    complaints_df[date] = pd.to_datetime(complaints_df[date])\n",
        "    print(type(complaints_df[date][0]))"
      ],
      "outputs": [],
      "execution_count": 76,
      "metadata": {}
    },
    {
      "cell_type": "code",
      "source": [
        "complaints_df['Date received'].dt.month.value_counts()"
      ],
      "outputs": [],
      "execution_count": 77,
      "metadata": {
        "collapsed": false,
        "outputHidden": false,
        "inputHidden": false
      }
    },
    {
      "cell_type": "code",
      "source": [],
      "outputs": [],
      "execution_count": null,
      "metadata": {
        "collapsed": false,
        "outputHidden": false,
        "inputHidden": false
      }
    }
  ],
  "metadata": {
    "kernelspec": {
      "name": "python3",
      "language": "python",
      "display_name": "Python 3"
    },
    "kernel_info": {
      "name": "python3"
    },
    "language_info": {
      "name": "python",
      "version": "3.6.0",
      "mimetype": "text/x-python",
      "codemirror_mode": {
        "name": "ipython",
        "version": 3
      },
      "pygments_lexer": "ipython3",
      "nbconvert_exporter": "python",
      "file_extension": ".py"
    }
  },
  "nbformat": 4,
  "nbformat_minor": 4
}