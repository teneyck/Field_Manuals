{
  "cells": [
    {
      "cell_type": "code",
      "source": [
        "import os\n",
        "import os.path"
      ],
      "outputs": [],
      "execution_count": 3,
      "metadata": {
        "collapsed": false,
        "outputHidden": false,
        "inputHidden": false
      }
    },
    {
      "cell_type": "code",
      "source": [
        "table_of_contents = '''\n",
        "# Repository for Correlation of Knowledge for Information Security\n",
        "\n",
        "## Table of Contents \\n\\n'''\n",
        "\n\n",
        "excludes = set(['.git', 'helpers' ])\n",
        "rootDir = '../'\n",
        "for root, dirs, files in os.walk(rootDir, topdown=True):\n",
        "    [dirs.remove(d) for d in list(dirs) if d in excludes]  \n",
        "#     level = root.replace(rootDir, '').count(os.sep)\n",
        "    currentDir = os.path.basename(root)\n",
        "    table_of_contents += '\\n### {}\\n'.format(currentDir)\n",
        "    for f in files:\n",
        "        table_of_contents += '-   [{}]({}/{}) \\n' .format(f, currentDir, f)"
      ],
      "outputs": [],
      "execution_count": 30,
      "metadata": {
        "collapsed": false,
        "outputHidden": false,
        "inputHidden": false
      }
    },
    {
      "cell_type": "code",
      "source": [
        "print(table_of_contents)"
      ],
      "outputs": [
        {
          "output_type": "stream",
          "name": "stdout",
          "text": [
            "\n",
            "# Repository for Correlation of Knowledge for Information Security\n",
            "\n",
            "## Table of Contents \n",
            "\n\n",
            "### \n",
            "-   [README.md](/README.md) \n",
            "\n",
            "### Languages\n",
            "-   [ascii.md](Languages/ascii.md) \n",
            "-   [markdown.md](Languages/markdown.md) \n",
            "-   [regex.md](Languages/regex.md) \n",
            "\n",
            "### Python\n",
            "-   [general.md](Python/general.md) \n",
            "-   [Hunt_Viz_Pandas_3.ipynb](Python/Hunt_Viz_Pandas_3.ipynb) \n",
            "-   [Hunt_Viz_Plotly_3.ipynb](Python/Hunt_Viz_Plotly_3.ipynb) \n",
            "-   [ipython.ipynb](Python/ipython.ipynb) \n",
            "-   [jupyter_themes.md](Python/jupyter_themes.md) \n",
            "\n",
            "### Linux\n",
            "-   [accounts.md](Linux/accounts.md) \n",
            "-   [files.md](Linux/files.md) \n",
            "-   [ip_tables.md](Linux/ip_tables.md) \n",
            "-   [network_usage.md](Linux/network_usage.md) \n",
            "-   [processes_services.md](Linux/processes_services.md) \n",
            "-   [scheduled_tasks.md](Linux/scheduled_tasks.md) \n",
            "-   [scripts.md](Linux/scripts.md) \n",
            "-   [utility.md](Linux/utility.md) \n",
            "\n",
            "### macOS\n",
            "-   [common.md](macOS/common.md) \n",
            "-   [keys.md](macOS/keys.md) \n",
            "\n",
            "### OSCP\n",
            "-   [OSCP_helpful_links.md](OSCP/OSCP_helpful_links.md) \n",
            "-   [OSCP_survival_guide](OSCP/OSCP_survival_guide) \n",
            "\n",
            "### Tools\n",
            "-   [atom.md](Tools/atom.md) \n",
            "-   [bro_logs.md](Tools/bro_logs.md) \n",
            "-   [git.md](Tools/git.md) \n",
            "-   [NMAP.md](Tools/NMAP.md) \n",
            "-   [tmux.md](Tools/tmux.md) \n",
            "-   [yara.md](Tools/yara.md) \n",
            "\n",
            "### Windows\n",
            "-   [accounts.md](Windows/accounts.md) \n",
            "-   [files_and_registry.md](Windows/files_and_registry.md) \n",
            "-   [network_usage.md](Windows/network_usage.md) \n",
            "-   [processes_services.md](Windows/processes_services.md) \n",
            "-   [scheduled_tasks.md](Windows/scheduled_tasks.md) \n",
            "\n"
          ]
        }
      ],
      "execution_count": 31,
      "metadata": {
        "collapsed": false,
        "outputHidden": false,
        "inputHidden": false
      }
    },
    {
      "cell_type": "code",
      "source": [
        " "
      ],
      "outputs": [],
      "execution_count": null,
      "metadata": {
        "collapsed": false,
        "outputHidden": false,
        "inputHidden": false
      }
    }
  ],
  "metadata": {
    "kernelspec": {
      "name": "python3",
      "language": "python",
      "display_name": "Python 3"
    },
    "kernel_info": {
      "name": "python3"
    },
    "language_info": {
      "name": "python",
      "version": "3.6.3",
      "mimetype": "text/x-python",
      "codemirror_mode": {
        "name": "ipython",
        "version": 3
      },
      "pygments_lexer": "ipython3",
      "nbconvert_exporter": "python",
      "file_extension": ".py"
    }
  },
  "nbformat": 4,
  "nbformat_minor": 4
}